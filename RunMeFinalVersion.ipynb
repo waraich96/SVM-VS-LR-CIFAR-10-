{
 "cells": [
  {
   "cell_type": "code",
   "execution_count": 13,
   "metadata": {
    "scrolled": true
   },
   "outputs": [
    {
     "ename": "FileNotFoundError",
     "evalue": "[Errno 2] No such file or directory: 'trnImage.npy'",
     "output_type": "error",
     "traceback": [
      "\u001b[0;31m---------------------------------------------------------------------------\u001b[0m",
      "\u001b[0;31mFileNotFoundError\u001b[0m                         Traceback (most recent call last)",
      "\u001b[0;32m<ipython-input-13-b9ca4e66f719>\u001b[0m in \u001b[0;36m<module>\u001b[0;34m\u001b[0m\n\u001b[1;32m     14\u001b[0m \u001b[0;32mimport\u001b[0m \u001b[0mtensorflow\u001b[0m \u001b[0;32mas\u001b[0m \u001b[0mtf\u001b[0m\u001b[0;34m\u001b[0m\u001b[0;34m\u001b[0m\u001b[0m\n\u001b[1;32m     15\u001b[0m \u001b[0;34m\u001b[0m\u001b[0m\n\u001b[0;32m---> 16\u001b[0;31m \u001b[0mtrnImages\u001b[0m \u001b[0;34m=\u001b[0m \u001b[0mnp\u001b[0m\u001b[0;34m.\u001b[0m\u001b[0mload\u001b[0m\u001b[0;34m(\u001b[0m\u001b[0;34m'trnImage.npy'\u001b[0m\u001b[0;34m)\u001b[0m\u001b[0;34m\u001b[0m\u001b[0;34m\u001b[0m\u001b[0m\n\u001b[0m\u001b[1;32m     17\u001b[0m \u001b[0mtstImages\u001b[0m \u001b[0;34m=\u001b[0m \u001b[0mnp\u001b[0m\u001b[0;34m.\u001b[0m\u001b[0mload\u001b[0m\u001b[0;34m(\u001b[0m\u001b[0;34m'tstImage.npy'\u001b[0m\u001b[0;34m)\u001b[0m\u001b[0;34m\u001b[0m\u001b[0;34m\u001b[0m\u001b[0m\n\u001b[1;32m     18\u001b[0m \u001b[0mtrnLabels\u001b[0m \u001b[0;34m=\u001b[0m \u001b[0mnp\u001b[0m\u001b[0;34m.\u001b[0m\u001b[0mload\u001b[0m\u001b[0;34m(\u001b[0m\u001b[0;34m'trnLabel.npy'\u001b[0m\u001b[0;34m)\u001b[0m\u001b[0;34m\u001b[0m\u001b[0;34m\u001b[0m\u001b[0m\n",
      "\u001b[0;32m/opt/anaconda3/lib/python3.7/site-packages/numpy/lib/npyio.py\u001b[0m in \u001b[0;36mload\u001b[0;34m(file, mmap_mode, allow_pickle, fix_imports, encoding)\u001b[0m\n\u001b[1;32m    426\u001b[0m         \u001b[0mown_fid\u001b[0m \u001b[0;34m=\u001b[0m \u001b[0;32mFalse\u001b[0m\u001b[0;34m\u001b[0m\u001b[0;34m\u001b[0m\u001b[0m\n\u001b[1;32m    427\u001b[0m     \u001b[0;32melse\u001b[0m\u001b[0;34m:\u001b[0m\u001b[0;34m\u001b[0m\u001b[0;34m\u001b[0m\u001b[0m\n\u001b[0;32m--> 428\u001b[0;31m         \u001b[0mfid\u001b[0m \u001b[0;34m=\u001b[0m \u001b[0mopen\u001b[0m\u001b[0;34m(\u001b[0m\u001b[0mos_fspath\u001b[0m\u001b[0;34m(\u001b[0m\u001b[0mfile\u001b[0m\u001b[0;34m)\u001b[0m\u001b[0;34m,\u001b[0m \u001b[0;34m\"rb\"\u001b[0m\u001b[0;34m)\u001b[0m\u001b[0;34m\u001b[0m\u001b[0;34m\u001b[0m\u001b[0m\n\u001b[0m\u001b[1;32m    429\u001b[0m         \u001b[0mown_fid\u001b[0m \u001b[0;34m=\u001b[0m \u001b[0;32mTrue\u001b[0m\u001b[0;34m\u001b[0m\u001b[0;34m\u001b[0m\u001b[0m\n\u001b[1;32m    430\u001b[0m \u001b[0;34m\u001b[0m\u001b[0m\n",
      "\u001b[0;31mFileNotFoundError\u001b[0m: [Errno 2] No such file or directory: 'trnImage.npy'"
     ]
    }
   ],
   "source": [
    "import numpy as np\n",
    "import matplotlib.pyplot as plt\n",
    "import skimage.feature\n",
    "from sklearn.decomposition import PCA\n",
    "from sklearn.svm import SVC\n",
    "from sklearn.discriminant_analysis import LinearDiscriminantAnalysis\n",
    "from sklearn.linear_model import LogisticRegression\n",
    "from sklearn.metrics import classification_report\n",
    "from sklearn.datasets import make_classification\n",
    "from sklearn.metrics import accuracy_score, f1_score, precision_score, recall_score, classification_report, confusion_matrix\n",
    "from sklearn.metrics import confusion_matrix\n",
    "from sklearn.preprocessing import StandardScaler\n",
    "import tensorflow.keras as keras\n",
    "import tensorflow as tf\n",
    "\n",
    "trnImages = np.load('trnImage.npy')\n",
    "tstImages = np.load('tstImage.npy')\n",
    "trnLabels = np.load('trnLabel.npy')\n",
    "tstLabels = np.load('tstLabel.npy')\n",
    "\n",
    "\n"
   ]
  },
  {
   "cell_type": "code",
   "execution_count": null,
   "metadata": {},
   "outputs": [],
   "source": []
  },
  {
   "cell_type": "code",
   "execution_count": 4,
   "metadata": {},
   "outputs": [
    {
     "ename": "NameError",
     "evalue": "name 'trnImages' is not defined",
     "output_type": "error",
     "traceback": [
      "\u001b[0;31m---------------------------------------------------------------------------\u001b[0m",
      "\u001b[0;31mNameError\u001b[0m                                 Traceback (most recent call last)",
      "\u001b[0;32m<ipython-input-4-2541893b8d18>\u001b[0m in \u001b[0;36m<module>\u001b[0;34m\u001b[0m\n\u001b[1;32m      9\u001b[0m \u001b[0;34m\u001b[0m\u001b[0m\n\u001b[1;32m     10\u001b[0m \u001b[0;32mfor\u001b[0m \u001b[0mi\u001b[0m \u001b[0;32min\u001b[0m \u001b[0mrange\u001b[0m \u001b[0;34m(\u001b[0m\u001b[0;36m0\u001b[0m\u001b[0;34m,\u001b[0m \u001b[0;36m10000\u001b[0m \u001b[0;34m)\u001b[0m\u001b[0;34m:\u001b[0m\u001b[0;34m\u001b[0m\u001b[0;34m\u001b[0m\u001b[0m\n\u001b[0;32m---> 11\u001b[0;31m     \u001b[0mtrnFeatures\u001b[0m \u001b[0;34m=\u001b[0m \u001b[0mcomputeFeatures\u001b[0m\u001b[0;34m(\u001b[0m\u001b[0mtrnImages\u001b[0m\u001b[0;34m[\u001b[0m\u001b[0;34m:\u001b[0m\u001b[0;34m,\u001b[0m\u001b[0;34m:\u001b[0m\u001b[0;34m,\u001b[0m\u001b[0;34m:\u001b[0m\u001b[0;34m,\u001b[0m\u001b[0mi\u001b[0m\u001b[0;34m]\u001b[0m\u001b[0;34m)\u001b[0m\u001b[0;34m\u001b[0m\u001b[0;34m\u001b[0m\u001b[0m\n\u001b[0m\u001b[1;32m     12\u001b[0m     \u001b[0mtrnArray\u001b[0m\u001b[0;34m[\u001b[0m\u001b[0mi\u001b[0m\u001b[0;34m,\u001b[0m\u001b[0;34m:\u001b[0m\u001b[0;34m]\u001b[0m \u001b[0;34m=\u001b[0m \u001b[0mtrnFeatures\u001b[0m\u001b[0;34m\u001b[0m\u001b[0;34m\u001b[0m\u001b[0m\n\u001b[1;32m     13\u001b[0m \u001b[0;34m\u001b[0m\u001b[0m\n",
      "\u001b[0;31mNameError\u001b[0m: name 'trnImages' is not defined"
     ]
    }
   ],
   "source": [
    "def computeFeatures(image):\n",
    "    # This function computes the HOG features with the parsed hyperparameters and returns the features as hog_feature. \n",
    "    # By setting visualize=True we obtain an image, hog_as_image, which can be plotted for insight into extracted HOG features.\n",
    "    hog_feature, hog_as_image = skimage.feature.hog(image, visualize=True, block_norm='L2-Hys')\n",
    "    return hog_feature\n",
    "\n",
    "trnArray = np.zeros([10000,324]) \n",
    "tstArray = np.zeros([1000,324])\n",
    "\n",
    "for i in range (0, 10000 ):\n",
    "    trnFeatures = computeFeatures(trnImages[:,:,:,i])\n",
    "    trnArray[i,:] = trnFeatures\n",
    "    \n",
    "    \n",
    "for i in range (0, 1000):\n",
    "    tstFeatures = computeFeatures(tstImages[:,:,:,i])\n",
    "    tstArray[i,:] = tstFeatures\n"
   ]
  },
  {
   "cell_type": "code",
   "execution_count": 5,
   "metadata": {},
   "outputs": [
    {
     "name": "stderr",
     "output_type": "stream",
     "text": [
      "/opt/anaconda3/lib/python3.7/site-packages/sklearn/decomposition/pca.py:536: RuntimeWarning: invalid value encountered in true_divide\n",
      "  self.explained_variance_ / total_var.sum()\n",
      "/opt/anaconda3/lib/python3.7/site-packages/sklearn/decomposition/pca.py:536: RuntimeWarning: invalid value encountered in true_divide\n",
      "  self.explained_variance_ / total_var.sum()\n"
     ]
    }
   ],
   "source": [
    "pca = PCA(n_components = 2)\n",
    "pcaTrnArray = pca.fit_transform(trnArray)\n",
    "pcaTstArray = pca.fit_transform(tstArray)"
   ]
  },
  {
   "cell_type": "code",
   "execution_count": 6,
   "metadata": {},
   "outputs": [
    {
     "ename": "NameError",
     "evalue": "name 'trnLabels' is not defined",
     "output_type": "error",
     "traceback": [
      "\u001b[0;31m---------------------------------------------------------------------------\u001b[0m",
      "\u001b[0;31mNameError\u001b[0m                                 Traceback (most recent call last)",
      "\u001b[0;32m<ipython-input-6-fde57c072e47>\u001b[0m in \u001b[0;36m<module>\u001b[0;34m\u001b[0m\n\u001b[1;32m      1\u001b[0m \u001b[0mlda\u001b[0m \u001b[0;34m=\u001b[0m \u001b[0mLinearDiscriminantAnalysis\u001b[0m\u001b[0;34m(\u001b[0m\u001b[0mn_components\u001b[0m \u001b[0;34m=\u001b[0m \u001b[0;36m2\u001b[0m\u001b[0;34m)\u001b[0m\u001b[0;34m\u001b[0m\u001b[0;34m\u001b[0m\u001b[0m\n\u001b[1;32m      2\u001b[0m \u001b[0;34m\u001b[0m\u001b[0m\n\u001b[0;32m----> 3\u001b[0;31m \u001b[0mldaTrnArray\u001b[0m \u001b[0;34m=\u001b[0m \u001b[0mlda\u001b[0m\u001b[0;34m.\u001b[0m\u001b[0mfit_transform\u001b[0m\u001b[0;34m(\u001b[0m\u001b[0mtrnArray\u001b[0m\u001b[0;34m,\u001b[0m\u001b[0mtrnLabels\u001b[0m\u001b[0;34m.\u001b[0m\u001b[0mravel\u001b[0m\u001b[0;34m(\u001b[0m\u001b[0;34m)\u001b[0m\u001b[0;34m)\u001b[0m\u001b[0;34m\u001b[0m\u001b[0;34m\u001b[0m\u001b[0m\n\u001b[0m\u001b[1;32m      4\u001b[0m \u001b[0mldaTstArray\u001b[0m \u001b[0;34m=\u001b[0m \u001b[0mlda\u001b[0m\u001b[0;34m.\u001b[0m\u001b[0mfit_transform\u001b[0m\u001b[0;34m(\u001b[0m\u001b[0mtstArray\u001b[0m\u001b[0;34m,\u001b[0m\u001b[0mtstLabels\u001b[0m\u001b[0;34m.\u001b[0m\u001b[0mravel\u001b[0m\u001b[0;34m(\u001b[0m\u001b[0;34m)\u001b[0m\u001b[0;34m)\u001b[0m\u001b[0;34m\u001b[0m\u001b[0;34m\u001b[0m\u001b[0m\n\u001b[1;32m      5\u001b[0m \u001b[0;34m\u001b[0m\u001b[0m\n",
      "\u001b[0;31mNameError\u001b[0m: name 'trnLabels' is not defined"
     ]
    }
   ],
   "source": [
    "lda = LinearDiscriminantAnalysis(n_components = 2)\n",
    "\n",
    "ldaTrnArray = lda.fit_transform(trnArray,trnLabels.ravel())\n",
    "ldaTstArray = lda.fit_transform(tstArray,tstLabels.ravel())\n",
    "\n",
    "ab = ldaTstArray"
   ]
  },
  {
   "cell_type": "code",
   "execution_count": 7,
   "metadata": {},
   "outputs": [
    {
     "ename": "NameError",
     "evalue": "name 'trnLabels' is not defined",
     "output_type": "error",
     "traceback": [
      "\u001b[0;31m---------------------------------------------------------------------------\u001b[0m",
      "\u001b[0;31mNameError\u001b[0m                                 Traceback (most recent call last)",
      "\u001b[0;32m<timed exec>\u001b[0m in \u001b[0;36m<module>\u001b[0;34m\u001b[0m\n",
      "\u001b[0;31mNameError\u001b[0m: name 'trnLabels' is not defined"
     ]
    }
   ],
   "source": [
    "%%time\n",
    "#SVM\n",
    "C = 1 # This is the penalty of the error term (Lecture 8, slide 18). \n",
    "\n",
    "svmModel = SVC(kernel='linear', C=C)\n",
    "svmModel.fit(trnArray, trnLabels.reshape(-1,))\n",
    "svmY_pred = svmModel.predict(tstArray)\n",
    "\n",
    "svmCm = confusion_matrix(tstLabels, svmY_pred)\n",
    "svmTarget_names = ['class 0', 'class 1', 'class 2', 'class 3', 'class 4', 'class 5' , 'class 6' ,'class 7' ,'class 8' ,'class 9']\n",
    "\n",
    "print('Accuracy:')\n",
    "print(precision_score(tstLabels, svmY_pred, average=\"macro\"))\n",
    "print('')\n",
    "print('Confusion Matrix:')\n",
    "print(svmCm)\n",
    "print('')\n",
    "print('Classification Report')\n",
    "print(classification_report(tstLabels, svmY_pred, target_names=svmTarget_names))\n"
   ]
  },
  {
   "cell_type": "code",
   "execution_count": 8,
   "metadata": {},
   "outputs": [
    {
     "ename": "NameError",
     "evalue": "name 'trnLabels' is not defined",
     "output_type": "error",
     "traceback": [
      "\u001b[0;31m---------------------------------------------------------------------------\u001b[0m",
      "\u001b[0;31mNameError\u001b[0m                                 Traceback (most recent call last)",
      "\u001b[0;32m<timed exec>\u001b[0m in \u001b[0;36m<module>\u001b[0;34m\u001b[0m\n",
      "\u001b[0;31mNameError\u001b[0m: name 'trnLabels' is not defined"
     ]
    }
   ],
   "source": [
    "%%time\n",
    "#Logistic Regression \n",
    "\n",
    "logisticRegr = LogisticRegression()\n",
    "logisticRegr.fit(trnArray, trnLabels.ravel())\n",
    "lrY_pred = logisticRegr.predict(tstArray)\n",
    "\n",
    "\n",
    "lrCm = confusion_matrix(tstLabels, lrY_pred)\n",
    "lrTarget_names = ['class 0', 'class 1', 'class 2', 'class 3', 'class 4', 'class 5' , 'class 6' ,'class 7' ,'class 8' ,'class 9']\n",
    "\n",
    "print('Accuracy:')\n",
    "print(precision_score(tstLabels, lrY_pred, average=\"macro\"))\n",
    "print('')\n",
    "print('Confusion Matrix:')\n",
    "print(lrCm)\n",
    "print('')\n",
    "print('Classification Report')\n",
    "print(classification_report(tstLabels, lrY_pred, target_names=lrTarget_names))"
   ]
  },
  {
   "cell_type": "code",
   "execution_count": 9,
   "metadata": {},
   "outputs": [
    {
     "ename": "NameError",
     "evalue": "name 'trnLabels' is not defined",
     "output_type": "error",
     "traceback": [
      "\u001b[0;31m---------------------------------------------------------------------------\u001b[0m",
      "\u001b[0;31mNameError\u001b[0m                                 Traceback (most recent call last)",
      "\u001b[0;32m<timed exec>\u001b[0m in \u001b[0;36m<module>\u001b[0;34m\u001b[0m\n",
      "\u001b[0;31mNameError\u001b[0m: name 'trnLabels' is not defined"
     ]
    }
   ],
   "source": [
    "%%time\n",
    "#pca svm\n",
    "\n",
    "C = 1 \n",
    "\n",
    "pcaSvmModel = SVC(kernel='linear', C=C)\n",
    "pcaSvmModel.fit(pcaTrnArray, trnLabels.reshape(-1,))\n",
    "pcaSvmY_pred = pcaSvmModel.predict(pcaTstArray)\n",
    "\n",
    "\n",
    "pvaSvmCm = confusion_matrix(tstLabels, pcaSvmY_pred)\n",
    "target_names = ['class 0', 'class 1', 'class 2', 'class 3', 'class 4', 'class 5' , 'class 6' ,'class 7' ,'class 8' ,'class 9']\n",
    "\n",
    "print('Accuracy:')\n",
    "print(precision_score(tstLabels, pcaSvmY_pred, average=\"macro\"))\n",
    "print('')\n",
    "print('Confusion Matrix:')\n",
    "print(pvaSvmCm)\n",
    "print('')\n",
    "print('Classification Report')\n",
    "print(classification_report(tstLabels, pcaSvmY_pred, target_names=target_names))\n"
   ]
  },
  {
   "cell_type": "code",
   "execution_count": 10,
   "metadata": {},
   "outputs": [
    {
     "ename": "NameError",
     "evalue": "name 'ldaTrnArray' is not defined",
     "output_type": "error",
     "traceback": [
      "\u001b[0;31m---------------------------------------------------------------------------\u001b[0m",
      "\u001b[0;31mNameError\u001b[0m                                 Traceback (most recent call last)",
      "\u001b[0;32m<ipython-input-10-4d361e57b653>\u001b[0m in \u001b[0;36m<module>\u001b[0;34m\u001b[0m\n\u001b[1;32m      4\u001b[0m \u001b[0;34m\u001b[0m\u001b[0m\n\u001b[1;32m      5\u001b[0m \u001b[0mldaSvmModel\u001b[0m \u001b[0;34m=\u001b[0m \u001b[0mSVC\u001b[0m\u001b[0;34m(\u001b[0m\u001b[0mkernel\u001b[0m\u001b[0;34m=\u001b[0m\u001b[0;34m'linear'\u001b[0m\u001b[0;34m,\u001b[0m \u001b[0mC\u001b[0m\u001b[0;34m=\u001b[0m\u001b[0mC\u001b[0m\u001b[0;34m)\u001b[0m\u001b[0;34m\u001b[0m\u001b[0;34m\u001b[0m\u001b[0m\n\u001b[0;32m----> 6\u001b[0;31m \u001b[0mldaSvmModel\u001b[0m\u001b[0;34m.\u001b[0m\u001b[0mfit\u001b[0m\u001b[0;34m(\u001b[0m\u001b[0mldaTrnArray\u001b[0m\u001b[0;34m,\u001b[0m \u001b[0mtrnLabels\u001b[0m\u001b[0;34m.\u001b[0m\u001b[0mreshape\u001b[0m\u001b[0;34m(\u001b[0m\u001b[0;34m-\u001b[0m\u001b[0;36m1\u001b[0m\u001b[0;34m,\u001b[0m\u001b[0;34m)\u001b[0m\u001b[0;34m)\u001b[0m\u001b[0;34m\u001b[0m\u001b[0;34m\u001b[0m\u001b[0m\n\u001b[0m\u001b[1;32m      7\u001b[0m \u001b[0mldaSvmY_pred\u001b[0m \u001b[0;34m=\u001b[0m \u001b[0mldaSvmModel\u001b[0m\u001b[0;34m.\u001b[0m\u001b[0mpredict\u001b[0m\u001b[0;34m(\u001b[0m\u001b[0mldaTstArray\u001b[0m\u001b[0;34m)\u001b[0m\u001b[0;34m\u001b[0m\u001b[0;34m\u001b[0m\u001b[0m\n\u001b[1;32m      8\u001b[0m \u001b[0;34m\u001b[0m\u001b[0m\n",
      "\u001b[0;31mNameError\u001b[0m: name 'ldaTrnArray' is not defined"
     ]
    }
   ],
   "source": [
    "#lda svm\n",
    "\n",
    "C = 1  \n",
    "\n",
    "ldaSvmModel = SVC(kernel='linear', C=C)\n",
    "ldaSvmModel.fit(ldaTrnArray, trnLabels.reshape(-1,))\n",
    "ldaSvmY_pred = ldaSvmModel.predict(ldaTstArray)\n",
    "\n",
    "\n",
    "ldaSvmCm = confusion_matrix(tstLabels, ldaSvmY_pred)\n",
    "target_names = ['class 0', 'class 1', 'class 2', 'class 3', 'class 4', 'class 5' , 'class 6' ,'class 7' ,'class 8' ,'class 9']\n",
    "\n",
    "print('Accuracy:')\n",
    "print(precision_score(tstLabels, ldaSvmY_pred, average=\"macro\"))\n",
    "print('')\n",
    "print('Confusion Matrix:')\n",
    "print(ldaSvmCm)\n",
    "print('')\n",
    "print('Classification Report')\n",
    "print(classification_report(tstLabels, ldaSvmY_pred, target_names=target_names))\n",
    "\n"
   ]
  },
  {
   "cell_type": "code",
   "execution_count": 11,
   "metadata": {},
   "outputs": [
    {
     "ename": "NameError",
     "evalue": "name 'trnLabels' is not defined",
     "output_type": "error",
     "traceback": [
      "\u001b[0;31m---------------------------------------------------------------------------\u001b[0m",
      "\u001b[0;31mNameError\u001b[0m                                 Traceback (most recent call last)",
      "\u001b[0;32m<timed exec>\u001b[0m in \u001b[0;36m<module>\u001b[0;34m\u001b[0m\n",
      "\u001b[0;31mNameError\u001b[0m: name 'trnLabels' is not defined"
     ]
    }
   ],
   "source": [
    "%%time\n",
    "#pca LR\n",
    "\n",
    "pcaLogisticRegr = LogisticRegression(solver='lbfgs', multi_class='auto')\n",
    "pcaLogisticRegr.fit(pcaTrnArray, trnLabels.ravel())\n",
    "pcaLrY_pred = pcaLogisticRegr.predict(pcaTstArray)\n",
    "\n",
    "\n",
    "pcaLrCm = confusion_matrix(tstLabels, pcaLrY_pred)\n",
    "target_names = ['class 0', 'class 1', 'class 2', 'class 3', 'class 4', 'class 5' , 'class 6' ,'class 7' ,'class 8' ,'class 9']\n",
    "\n",
    "print('Accuracy:')\n",
    "print(precision_score(tstLabels, pcaLrY_pred, average=\"macro\"))\n",
    "print('')\n",
    "print('Confusion Matrix:')\n",
    "print(pcaLrCm)\n",
    "print('')\n",
    "print('Classification Report')\n",
    "print(classification_report(tstLabels, pcaLrY_pred, target_names=target_names))"
   ]
  },
  {
   "cell_type": "code",
   "execution_count": 12,
   "metadata": {},
   "outputs": [
    {
     "ename": "NameError",
     "evalue": "name 'ldaTrnArray' is not defined",
     "output_type": "error",
     "traceback": [
      "\u001b[0;31m---------------------------------------------------------------------------\u001b[0m",
      "\u001b[0;31mNameError\u001b[0m                                 Traceback (most recent call last)",
      "\u001b[0;32m<timed exec>\u001b[0m in \u001b[0;36m<module>\u001b[0;34m\u001b[0m\n",
      "\u001b[0;31mNameError\u001b[0m: name 'ldaTrnArray' is not defined"
     ]
    }
   ],
   "source": [
    "%%time\n",
    "ldaLogisticRegr = LogisticRegression(solver='lbfgs', multi_class='auto')\n",
    "ldaLogisticRegr.fit(ldaTrnArray, trnLabels.ravel())\n",
    "ldaLrY_pred = ldaLogisticRegr.predict(ldaTstArray)\n",
    "\n",
    "\n",
    "ldaLrCm = confusion_matrix(tstLabels, ldaLrY_pred)\n",
    "target_names = ['class 0', 'class 1', 'class 2', 'class 3', 'class 4', 'class 5' , 'class 6' ,'class 7' ,'class 8' ,'class 9']\n",
    "\n",
    "\n",
    "\n",
    "print('Accuracy:')\n",
    "print(precision_score(tstLabels, ldaLrY_pred, average=\"macro\"))\n",
    "print('')\n",
    "print('Confusion Matrix:')\n",
    "print(ldaLrCm)\n",
    "print('')\n",
    "print('Classification Report')\n",
    "print(classification_report(tstLabels, ldaLrY_pred, target_names=target_names))"
   ]
  },
  {
   "cell_type": "code",
   "execution_count": null,
   "metadata": {},
   "outputs": [],
   "source": []
  },
  {
   "cell_type": "code",
   "execution_count": null,
   "metadata": {},
   "outputs": [],
   "source": []
  },
  {
   "cell_type": "code",
   "execution_count": null,
   "metadata": {},
   "outputs": [],
   "source": []
  }
 ],
 "metadata": {
  "kernelspec": {
   "display_name": "Python 3",
   "language": "python",
   "name": "python3"
  },
  "language_info": {
   "codemirror_mode": {
    "name": "ipython",
    "version": 3
   },
   "file_extension": ".py",
   "mimetype": "text/x-python",
   "name": "python",
   "nbconvert_exporter": "python",
   "pygments_lexer": "ipython3",
   "version": "3.7.5"
  }
 },
 "nbformat": 4,
 "nbformat_minor": 2
}
